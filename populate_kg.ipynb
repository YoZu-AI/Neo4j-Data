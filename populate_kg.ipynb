{
 "cells": [
  {
   "cell_type": "code",
   "execution_count": 1,
   "metadata": {},
   "outputs": [],
   "source": [
    "import pandas as pd"
   ]
  },
  {
   "cell_type": "code",
   "execution_count": 5,
   "metadata": {},
   "outputs": [
    {
     "name": "stdout",
     "output_type": "stream",
     "text": [
      "                                                 Entity  \\\n",
      "0                                            Book cover   \n",
      "1     National Council of Educational Research and T...   \n",
      "2                                      Bookish learning   \n",
      "3                                               Syllabi   \n",
      "4                                         Rote learning   \n",
      "...                                                 ...   \n",
      "4091                                                Gas   \n",
      "4092                                                Gas   \n",
      "4093                                           Pressure   \n",
      "4094                                               Leaf   \n",
      "4095                                               City   \n",
      "\n",
      "                                             Definition  \n",
      "0     A book cover is any protective covering used t...  \n",
      "1     The National Council of Educational Research a...  \n",
      "2                                Not found on Wikipedia  \n",
      "3                                Not found on Wikipedia  \n",
      "4     Rote learning is a memorization technique base...  \n",
      "...                                                 ...  \n",
      "4091  Gas is one of the four fundamental states of m...  \n",
      "4092  Gas is one of the four fundamental states of m...  \n",
      "4093  Pressure (symbol: p or P) is the force applied...  \n",
      "4094  A leaf is a principal appendage of the stem of...  \n",
      "4095      A city is a human settlement of notable size.  \n",
      "\n",
      "[4096 rows x 2 columns]\n",
      "                                                 Entity  \\\n",
      "0                                            Book cover   \n",
      "1     National Council of Educational Research and T...   \n",
      "2                                      Bookish learning   \n",
      "3                                               Syllabi   \n",
      "4                                         Rote learning   \n",
      "...                                                 ...   \n",
      "4091                                                Gas   \n",
      "4092                                                Gas   \n",
      "4093                                           Pressure   \n",
      "4094                                               Leaf   \n",
      "4095                                               City   \n",
      "\n",
      "                                                 Images  \n",
      "0     ['https://upload.wikimedia.org/wikipedia/commo...  \n",
      "1     ['https://upload.wikimedia.org/wikipedia/commo...  \n",
      "2                                                    []  \n",
      "3                                                    []  \n",
      "4     ['https://upload.wikimedia.org/wikipedia/commo...  \n",
      "...                                                 ...  \n",
      "4091  ['https://upload.wikimedia.org/wikipedia/commo...  \n",
      "4092  ['https://upload.wikimedia.org/wikipedia/commo...  \n",
      "4093  ['https://upload.wikimedia.org/wikipedia/commo...  \n",
      "4094  ['https://upload.wikimedia.org/wikipedia/commo...  \n",
      "4095  ['https://upload.wikimedia.org/wikipedia/commo...  \n",
      "\n",
      "[4096 rows x 2 columns]\n"
     ]
    }
   ],
   "source": [
    "definitions = pd.read_csv(r\"Class_6_Science_NCERT\\Entity_Definition.csv\")\n",
    "images = pd.read_csv(r\"Class_6_Science_NCERT\\Image_Wiki.csv\")\n",
    "    \n",
    "print(definitions)\n",
    "print(images)"
   ]
  },
  {
   "cell_type": "code",
   "execution_count": 9,
   "metadata": {},
   "outputs": [
    {
     "name": "stdout",
     "output_type": "stream",
     "text": [
      "Index(['Entity', 'Definition'], dtype='object')\n",
      "Index(['Entity', 'Images'], dtype='object')\n"
     ]
    }
   ],
   "source": [
    "print(definitions.columns)\n",
    "print(images.columns)"
   ]
  },
  {
   "cell_type": "code",
   "execution_count": 10,
   "metadata": {},
   "outputs": [],
   "source": [
    "definitions['Images'] = images['Images']"
   ]
  },
  {
   "cell_type": "code",
   "execution_count": 12,
   "metadata": {},
   "outputs": [],
   "source": [
    "definitions.to_csv(r\"Class_6_Science_NCERT\\entities.csv\", index=False)"
   ]
  }
 ],
 "metadata": {
  "kernelspec": {
   "display_name": "Python 3",
   "language": "python",
   "name": "python3"
  },
  "language_info": {
   "codemirror_mode": {
    "name": "ipython",
    "version": 3
   },
   "file_extension": ".py",
   "mimetype": "text/x-python",
   "name": "python",
   "nbconvert_exporter": "python",
   "pygments_lexer": "ipython3",
   "version": "3.9.7"
  },
  "orig_nbformat": 4
 },
 "nbformat": 4,
 "nbformat_minor": 2
}
